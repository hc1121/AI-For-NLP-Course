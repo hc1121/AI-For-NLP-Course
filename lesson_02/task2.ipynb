{
 "cells": [
  {
   "cell_type": "markdown",
   "metadata": {},
   "source": [
    "##### 1. How to Github and Why do we use Jupyter and Pycharm; \n"
   ]
  },
  {
   "cell_type": "markdown",
   "metadata": {},
   "source": [
    "Ans: Github：是一个面向开源及私有软件项目的托管平台。一方面，可以将自己的代码存放上去，作为代码仓库，同时可以养成代码维护的好习惯；另一方面，可以在github上找自己想要的代码，供自己学习。 Jupyter：是一个交互式的python笔记本，个人觉得非常方便，对于调试或者展示一些简单的程序效果很好 Pycharm:是python的开发ide，里面有许多很好的功能，在调试项目的时候，使用起来会比较方便。 如何使用github: github使用：首先在github中新建一个项目，然后得到它的git地址（也可以从已有项目中得到它的git仓地址），然后把它git clone 到本地，可以增添或修改好自己的文件，然后 git add 文件，git commit -m 说明，git pull，最后git push完成。"
   ]
  },
  {
   "cell_type": "markdown",
   "metadata": {},
   "source": [
    "##### 2. What's the Probability Model?"
   ]
  },
  {
   "cell_type": "markdown",
   "metadata": {},
   "source": [
    "Ans:是用来描述不同随机变量之间关系的数学模型，通常情况下刻画了一个或多个随机变量之间的相互非确定性的概率关系"
   ]
  },
  {
   "cell_type": "markdown",
   "metadata": {},
   "source": [
    "##### 3. Can you came up with some sceneraies at which we could use Probability Model?"
   ]
  },
  {
   "cell_type": "markdown",
   "metadata": {},
   "source": [
    "Ans:作文批改（里面包括了病句检测，用词问题等等），垃圾邮件检测，文本分类，机器翻译，语音识别等等"
   ]
  },
  {
   "cell_type": "markdown",
   "metadata": {},
   "source": [
    "##### 4. Why do we use probability and what's the difficult points for programming based on parsing and pattern match? "
   ]
  },
  {
   "cell_type": "markdown",
   "metadata": {},
   "source": [
    "Ans:用概率值，可以从统计学角度分析问题，从大量的数据中宏观的挖掘每一个事件在何种情况下出现的可能性。\n",
    "基于解析和模式匹配的程序设计是从人为设计的角度去处理问题的，所以其难点是，但是很多问题，可能它的逻辑是很复杂的，这个时候基于解析和模式匹配的方法就会很难。"
   ]
  },
  {
   "cell_type": "markdown",
   "metadata": {},
   "source": [
    "##### 5. What's the Language Model;"
   ]
  },
  {
   "cell_type": "markdown",
   "metadata": {},
   "source": [
    "Ans: 对于一个句子，可以判断这个句子出现的概率，以此，通过一个大的语料库，可以判断一个句子是否合理。"
   ]
  },
  {
   "cell_type": "markdown",
   "metadata": {},
   "source": [
    "#####  6. Can you came up with some sceneraies at which we could use Language Model?\n"
   ]
  },
  {
   "cell_type": "markdown",
   "metadata": {},
   "source": [
    "Ans:作文批改，训练词向量，机器翻译，语音识别"
   ]
  },
  {
   "cell_type": "markdown",
   "metadata": {},
   "source": [
    "##### 7. What's the 1-gram language model;"
   ]
  },
  {
   "cell_type": "markdown",
   "metadata": {},
   "source": [
    "Ans:一句话产生的概率由其组成的单词有关，每个词都是相互独立的。"
   ]
  },
  {
   "cell_type": "markdown",
   "metadata": {},
   "source": [
    "##### 8. What's the disadvantages and advantages of 1-gram language model;\n"
   ]
  },
  {
   "cell_type": "markdown",
   "metadata": {},
   "source": [
    "Ans:优点：简单易理解。缺点：忽略语义语境"
   ]
  },
  {
   "cell_type": "markdown",
   "metadata": {},
   "source": [
    "##### 9.  What't the 2-gram models; \n"
   ]
  },
  {
   "cell_type": "markdown",
   "metadata": {},
   "source": [
    "Ans:当前词出现的概率跟前一个词有关。"
   ]
  },
  {
   "cell_type": "markdown",
   "metadata": {},
   "source": [
    "##### 10. what's the web crawler, and can you implement a simple crawler? "
   ]
  },
  {
   "cell_type": "markdown",
   "metadata": {},
   "source": [
    "Ans:网络爬虫就是从某一网页中，获取其html内容，通过解析可以获得我们想要的内容。\n",
    "我可以实现一个简单的爬虫。python中内置了request模块，通过使用request的方法，可以提取网页的html内容。\n",
    "另外解析网页的方法主要有正则表达式，xpath，beautifulsoup。"
   ]
  },
  {
   "cell_type": "markdown",
   "metadata": {},
   "source": [
    "##### 11.  There may be some issues to make our crwaler programming difficult, what are these, and how do we solve them?"
   ]
  },
  {
   "cell_type": "markdown",
   "metadata": {},
   "source": [
    "Ans:\n",
    "1编码问题：通过查询编码格式，使用对用的编码方式。\n",
    "2反爬机制：模拟浏览器、使用匿名代理、设置爬取间隔等等。"
   ]
  },
  {
   "cell_type": "markdown",
   "metadata": {},
   "source": [
    "##### 12. What't the Regular Expression and how to use?"
   ]
  },
  {
   "cell_type": "markdown",
   "metadata": {},
   "source": [
    "Ans:正则表达式使用单个字符串来描述、匹配一系列匹配某个句法规则的字符串。\n",
    "使用方法：分析自身需求，然后使用相应的规则来匹配获得想要的文本内容。"
   ]
  },
  {
   "cell_type": "code",
   "execution_count": null,
   "metadata": {},
   "outputs": [],
   "source": []
  }
 ],
 "metadata": {
  "kernelspec": {
   "display_name": "Python 3",
   "language": "python",
   "name": "python3"
  },
  "language_info": {
   "codemirror_mode": {
    "name": "ipython",
    "version": 3
   },
   "file_extension": ".py",
   "mimetype": "text/x-python",
   "name": "python",
   "nbconvert_exporter": "python",
   "pygments_lexer": "ipython3",
   "version": "3.6.6"
  }
 },
 "nbformat": 4,
 "nbformat_minor": 2
}

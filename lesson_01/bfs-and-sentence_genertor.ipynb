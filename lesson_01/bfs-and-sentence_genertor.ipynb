{
 "cells": [
  {
   "cell_type": "markdown",
   "metadata": {},
   "source": [
    "# Map Search\n",
    "## bfs and dfs"
   ]
  },
  {
   "cell_type": "code",
   "execution_count": null,
   "metadata": {
    "collapsed": true
   },
   "outputs": [],
   "source": [
    "BEIJING,SHENZHEN,XIAMEN,XIANGGANG,SHANGHAI,HANGZHOU,NINGBO,ZHENGZHOU = \n",
    "\"\"\"BEIJING SHENZHEN XIAMEN XIANGGANG SHANGHAI HANGZHOU NINGBO ZHNGZHOU\"\"\".split()"
   ]
  },
  {
   "cell_type": "code",
   "execution_count": 37,
   "metadata": {
    "collapsed": true
   },
   "outputs": [],
   "source": [
    "dictionary = {}"
   ]
  },
  {
   "cell_type": "code",
   "execution_count": 38,
   "metadata": {
    "collapsed": true
   },
   "outputs": [],
   "source": [
    "connection = {\n",
    "    SHENZHEN:[HANGZHOU,NINGBO,ZHENGZHOU],\n",
    "    XIAMEN:[XIANGGANG,BEIJING,HANGZHOU],\n",
    "    XIANGGANG:[BEIJING,SHANGHAI],\n",
    "    SHANGHAI:[BEIJING,SHENZHEN],\n",
    "    HANGZHOU:[BEIJING,XIAMEN,XIANGGANG],\n",
    "    NINGBO:[BEIJING],\n",
    "    BEIJING:[SHANGHAI,NINGBO,SHENZHEN,ZHENGZHOU],\n",
    "    ZHENGZHOU:[BEIJING,HANGZHOU]\n",
    "    \n",
    "}"
   ]
  },
  {
   "cell_type": "code",
   "execution_count": 39,
   "metadata": {
    "collapsed": true
   },
   "outputs": [],
   "source": [
    "import networkx as nx#???"
   ]
  },
  {
   "cell_type": "code",
   "execution_count": 40,
   "metadata": {
    "collapsed": true
   },
   "outputs": [],
   "source": [
    "%matplotlib inline"
   ]
  },
  {
   "cell_type": "code",
   "execution_count": 41,
   "metadata": {
    "collapsed": true
   },
   "outputs": [],
   "source": [
    "graph = connection"
   ]
  },
  {
   "cell_type": "code",
   "execution_count": 42,
   "metadata": {
    "collapsed": true
   },
   "outputs": [],
   "source": [
    "g = nx.Graph(graph)"
   ]
  },
  {
   "cell_type": "code",
   "execution_count": 43,
   "metadata": {},
   "outputs": [
    {
     "data": {
      "image/png": "[encoded data removed]",
      "text/plain": [
       "<matplotlib.figure.Figure at 0x22122ee4e48>"
      ]
     },
     "metadata": {},
     "output_type": "display_data"
    }
   ],
   "source": [
    "nx.draw(g)"
   ]
  },
  {
   "cell_type": "code",
   "execution_count": 44,
   "metadata": {},
   "outputs": [],
   "source": [
    "def nagivator(start,end,flight_graph):\n",
    "    '''start 出发地;end 目的地;connection_graph航线地图？'''\n",
    "    pathes = [[start]]\n",
    "    seen = set()\n",
    "    while pathes:\n",
    "        path = pathes.pop(0)\n",
    "        froniter = path[-1]\n",
    "        if froniter in seen: continue\n",
    "        successors = flight_graph[froniter]#该地航班情况\n",
    "        for s in successors:\n",
    "            if s==end:\n",
    "                path.append(s)\n",
    "                return path\n",
    "            else :\n",
    "                pathes.append(path+[s])\n",
    "       # print(pathes)\n",
    "        pathes = sorted(pathes,key=len)\n",
    "        seen.add(froniter)"
   ]
  },
  {
   "cell_type": "code",
   "execution_count": 45,
   "metadata": {},
   "outputs": [],
   "source": [
    "pathes = nagivator(NINGBO,HANGZHOU,connection)"
   ]
  },
  {
   "cell_type": "code",
   "execution_count": 46,
   "metadata": {},
   "outputs": [
    {
     "name": "stdout",
     "output_type": "stream",
     "text": [
      "['NINGBO', 'BEIJING', 'SHENZHEN', 'HANGZHOU']\n"
     ]
    }
   ],
   "source": [
    "print(pathes)"
   ]
  },
  {
   "cell_type": "code",
   "execution_count": 47,
   "metadata": {},
   "outputs": [],
   "source": [
    "def nagivator_bfs(start,end,flight_graph):\n",
    "    pathes = [start]\n",
    "    seen = set()\n",
    "    while pathes:\n",
    "        froniter = pathes.pop(0)\n",
    "        if froniter in seen:continue\n",
    "        successors = flight_graph[froniter]\n",
    "        #print(successors)\n",
    "        print('standing on {} Looking forward{}'.format(froniter,successors))\n",
    "        pathes = pathes + successors #广度优先\n",
    "        seen.add(froniter)"
   ]
  },
  {
   "cell_type": "code",
   "execution_count": 48,
   "metadata": {},
   "outputs": [
    {
     "name": "stdout",
     "output_type": "stream",
     "text": [
      "standing on NINGBO Looking forward['BEIJING']\n",
      "standing on BEIJING Looking forward['SHANGHAI', 'NINGBO', 'SHENZHEN', 'ZHNGZHOU']\n",
      "standing on SHANGHAI Looking forward['BEIJING', 'SHENZHEN']\n",
      "standing on SHENZHEN Looking forward['HANGZHOU', 'NINGBO', 'ZHNGZHOU']\n",
      "standing on ZHNGZHOU Looking forward['BEIJING', 'HANGZHOU']\n",
      "standing on HANGZHOU Looking forward['BEIJING', 'XIAMEN', 'XIANGGANG']\n",
      "standing on XIAMEN Looking forward['XIANGGANG', 'BEIJING', 'HANGZHOU']\n",
      "standing on XIANGGANG Looking forward['BEIJING', 'SHANGHAI']\n"
     ]
    }
   ],
   "source": [
    "nagivator_bfs(NINGBO,HANGZHOU,connection)"
   ]
  },
  {
   "cell_type": "code",
   "execution_count": 49,
   "metadata": {},
   "outputs": [],
   "source": [
    "def nagivator_dfs(start,end,flight_graph):\n",
    "    pathes = [start]\n",
    "    seen = set()\n",
    "    while pathes:\n",
    "        froniter = pathes.pop(0)\n",
    "        if froniter in seen:continue\n",
    "        successors = flight_graph[froniter]\n",
    "        print('standing on {} Looking forward{}'.format(froniter,successors))\n",
    "        pathes = successors + pathes #深度优先\n",
    "        seen.add(froniter)"
   ]
  },
  {
   "cell_type": "code",
   "execution_count": 51,
   "metadata": {},
   "outputs": [
    {
     "name": "stdout",
     "output_type": "stream",
     "text": [
      "standing on NINGBO Looking forward['BEIJING']\n",
      "standing on BEIJING Looking forward['SHANGHAI', 'NINGBO', 'SHENZHEN', 'ZHNGZHOU']\n",
      "standing on SHANGHAI Looking forward['BEIJING', 'SHENZHEN']\n",
      "standing on SHENZHEN Looking forward['HANGZHOU', 'NINGBO', 'ZHNGZHOU']\n",
      "standing on HANGZHOU Looking forward['BEIJING', 'XIAMEN', 'XIANGGANG']\n",
      "standing on XIAMEN Looking forward['XIANGGANG', 'BEIJING', 'HANGZHOU']\n",
      "standing on XIANGGANG Looking forward['BEIJING', 'SHANGHAI']\n",
      "standing on ZHNGZHOU Looking forward['BEIJING', 'HANGZHOU']\n"
     ]
    }
   ],
   "source": [
    "nagivator_dfs(NINGBO,HANGZHOU,connection)"
   ]
  },
  {
   "cell_type": "code",
   "execution_count": null,
   "metadata": {
    "collapsed": true
   },
   "outputs": [],
   "source": []
  },
  {
   "cell_type": "markdown",
   "metadata": {},
   "source": [
    "# Sentence Generation"
   ]
  },
  {
   "cell_type": "markdown",
   "metadata": {},
   "source": [
    "这是一个随机生成句子的方法。\n",
    "这里假设完整的一个句子是由noun_phrase和verb_phrase构成\n",
    "一个noun_phrase由(article)(adj1)(adj2)(...)(noun)的形式构成，即冠词+形容词（可多个也可以没有）+名词\n",
    "一个verb_phrease由verb/noun_phrase构成，动词+冠词+形容词（可多个也可以没有）+名词\n",
    "综上：\n",
    "具体展开一个句子的生成规则：\n",
    "冠词+形容词（可多个也可以没有）+名词+ 动词+ 冠词+形容词（可多个也可以没有）+名词\n"
   ]
  },
  {
   "cell_type": "code",
   "execution_count": 53,
   "metadata": {
    "collapsed": true
   },
   "outputs": [],
   "source": [
    "import random"
   ]
  },
  {
   "cell_type": "code",
   "execution_count": 60,
   "metadata": {},
   "outputs": [],
   "source": [
    "grammar = \"\"\"\n",
    "sentence => noun_phrase verb_phrase \n",
    "noun_phrase => Article Adj* noun\n",
    "Adj* => null | Adj Adj*\n",
    "verb_phrase => verb noun_phrase\n",
    "Article =>  一个 | 这个\n",
    "noun =>   女人 |  篮球 | 桌子 | 小猫\n",
    "verb => 看着   |  坐在 |  听着 | 看见\n",
    "Adj =>   蓝色的 |  好看的 | 小小的\n",
    "\"\"\""
   ]
  },
  {
   "cell_type": "code",
   "execution_count": 61,
   "metadata": {},
   "outputs": [],
   "source": [
    "def grammar_parse(grammar_str,sep='=>'):\n",
    "    '''返回语法字典'''\n",
    "    grammar = {}\n",
    "    for line in grammar_str.split('\\n'):\n",
    "        line = line.strip()\n",
    "        if not line: continue\n",
    "        target,rules = line.split(sep)\n",
    "        grammar[target.strip()]=[r.split() for r in rules.split('|')]\n",
    "    return grammar"
   ]
  },
  {
   "cell_type": "code",
   "execution_count": 62,
   "metadata": {
    "collapsed": true
   },
   "outputs": [],
   "source": [
    "def gene(grammar_parsed, target='sentence'):\n",
    "    if target not in grammar_parsed: return target\n",
    "    rule = random.choice(grammar_parsed[target])\n",
    "    return ''.join(gene(grammar_parsed,target = r) for r in rule if r != 'null')"
   ]
  },
  {
   "cell_type": "code",
   "execution_count": 63,
   "metadata": {},
   "outputs": [],
   "source": [
    "grammar_parsed = grammar_parse(grammar)"
   ]
  },
  {
   "cell_type": "code",
   "execution_count": 64,
   "metadata": {},
   "outputs": [
    {
     "data": {
      "text/plain": [
       "{'Adj': [['蓝色的'], ['好看的'], ['小小的']],\n",
       " 'Adj*': [['null'], ['Adj', 'Adj*']],\n",
       " 'Article': [['一个'], ['这个']],\n",
       " 'noun': [['女人'], ['篮球'], ['桌子'], ['小猫']],\n",
       " 'noun_phrase': [['Article', 'Adj*', 'noun']],\n",
       " 'sentence': [['noun_phrase', 'verb_phrase']],\n",
       " 'verb': [['看着'], ['坐在'], ['听着'], ['看见']],\n",
       " 'verb_phrase': [['verb', 'noun_phrase']]}"
      ]
     },
     "execution_count": 64,
     "metadata": {},
     "output_type": "execute_result"
    }
   ],
   "source": [
    "grammar_parsed"
   ]
  },
  {
   "cell_type": "code",
   "execution_count": 66,
   "metadata": {},
   "outputs": [
    {
     "name": "stdout",
     "output_type": "stream",
     "text": [
      "一个好看的桌子坐在一个桌子\n",
      "一个小小的桌子坐在一个蓝色的桌子\n",
      "一个女人看着这个好看的小小的小小的蓝色的蓝色的小小的蓝色的桌子\n",
      "这个小猫听着一个小猫\n",
      "这个好看的桌子听着这个蓝色的桌子\n",
      "一个小猫看着这个好看的篮球\n",
      "一个篮球听着一个女人\n",
      "这个蓝色的好看的好看的蓝色的桌子坐在一个蓝色的蓝色的小小的蓝色的女人\n",
      "一个好看的蓝色的篮球看见这个蓝色的好看的好看的篮球\n",
      "一个小小的蓝色的好看的小小的好看的小小的小小的小猫看见这个蓝色的小猫\n"
     ]
    }
   ],
   "source": [
    "for i in range(10):\n",
    "    print(gene(grammar_parsed))"
   ]
  },
  {
   "cell_type": "code",
   "execution_count": 67,
   "metadata": {
    "collapsed": true
   },
   "outputs": [],
   "source": [
    "decimal_grammar = \"\"\"\n",
    "expression = operator op operator\n",
    "operator = num op num\n",
    "num = 0 | 1 | 2 | 3 | 4 | 5 | 6 | 7 | 8 | 9 | num num\n",
    "op = + | - | * | /\n",
    "\"\"\""
   ]
  },
  {
   "cell_type": "code",
   "execution_count": 68,
   "metadata": {
    "collapsed": true
   },
   "outputs": [],
   "source": [
    "decimal_parsed = grammar_parse(decimal_grammar,sep = '=')"
   ]
  },
  {
   "cell_type": "code",
   "execution_count": 69,
   "metadata": {},
   "outputs": [
    {
     "data": {
      "text/plain": [
       "{'expression': [['operator', 'op', 'operator']],\n",
       " 'num': [['0'],\n",
       "  ['1'],\n",
       "  ['2'],\n",
       "  ['3'],\n",
       "  ['4'],\n",
       "  ['5'],\n",
       "  ['6'],\n",
       "  ['7'],\n",
       "  ['8'],\n",
       "  ['9'],\n",
       "  ['num', 'num']],\n",
       " 'op': [['+'], ['-'], ['*'], ['/']],\n",
       " 'operator': [['num', 'op', 'num']]}"
      ]
     },
     "execution_count": 69,
     "metadata": {},
     "output_type": "execute_result"
    }
   ],
   "source": [
    "decimal_parsed"
   ]
  },
  {
   "cell_type": "code",
   "execution_count": 71,
   "metadata": {},
   "outputs": [
    {
     "name": "stdout",
     "output_type": "stream",
     "text": [
      "3*4/3*2\n",
      "5/8/3+6\n",
      "5/2+9/9\n",
      "2*4-9-8\n",
      "78+5*3/1\n",
      "2-5/4/6\n",
      "4-8*7-6\n",
      "5*1*3/1\n",
      "1-8+2/1\n",
      "4-2-3/2\n"
     ]
    }
   ],
   "source": [
    "for i in range(10):\n",
    "    print(gene(decimal_parsed,target= 'expression'))"
   ]
  },
  {
   "cell_type": "code",
   "execution_count": null,
   "metadata": {
    "collapsed": true
   },
   "outputs": [],
   "source": []
  }
 ],
 "metadata": {
  "kernelspec": {
   "display_name": "Python 3",
   "language": "python",
   "name": "python3"
  },
  "language_info": {
   "codemirror_mode": {
    "name": "ipython",
    "version": 3
   },
   "file_extension": ".py",
   "mimetype": "text/x-python",
   "name": "python",
   "nbconvert_exporter": "python",
   "pygments_lexer": "ipython3",
   "version": "3.6.3"
  }
 },
 "nbformat": 4,
 "nbformat_minor": 2
}

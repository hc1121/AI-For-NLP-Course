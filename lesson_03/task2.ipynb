{
 "cells": [
  {
   "cell_type": "markdown",
   "metadata": {},
   "source": [
    "# Task2\n",
    "## Answer following questions"
   ]
  },
  {
   "cell_type": "markdown",
   "metadata": {},
   "source": [
    "#### 1. Why we need machine learning methods instead of creating a complicated formula?\n",
    "Ans:机器学习的目的是让机器从数据中去学习规律，通过学习算法自下而上的学习。而设计一个复杂的公式是一种自上而下的利用规则来解决问题的方法。两者可能都可以解决某一个问题，但是前者可以从大量的数据中自动的学习到潜在的规律，后者是人为设计，问题越复杂，公式则越复杂。所以面对复杂的问题，使用机器学习更方便更简单，而后者而非常困难。\n",
    "\n",
    "#### 2. Wha't's the disadvantages of the 1st Random Choosen methods in our course?\n",
    "Ans:每次迭代过程中随机生成的参数导致优化的step是无序混乱的，面对复杂的问题，可能需要非常大的迭代次数。\n",
    "\n",
    "### 3. Is the 2nd method supervised direction better than 1st one? What's the disadvantages of the 2nd supversied directin method?\n",
    "Ans: 第二个方法比第一个方法好。\n",
    "\n",
    "### 4. Why do we use Derivative / Gredient to fit a target function?\n",
    "Ans: \n",
    "\n",
    "### 5. In the words 'Gredient Descent', what's the Gredient and what's the Descent?\n",
    "Ans:梯度就是样本在空间中的导数。下降是沿着这个导数的反方向前进。\n",
    "\n",
    "### 6. What's the advantages of the 3rd gradient descent method compared to the previous methods?\n",
    "Ans:\n",
    "\n",
    "### 7. Using the simple words to describe: What's the machine leanring.\n",
    "Ans:机器学习是人工智能的一个分支，其算法就是让机器自动的从数据中学习规律，并利用规律对未知数据进行分析的算法。其目的是代替人工，让机器帮助人来做某些事情。"
   ]
  },
  {
   "cell_type": "code",
   "execution_count": null,
   "metadata": {
    "collapsed": true
   },
   "outputs": [],
   "source": []
  }
 ],
 "metadata": {
  "kernelspec": {
   "display_name": "Python 3",
   "language": "python",
   "name": "python3"
  },
  "language_info": {
   "codemirror_mode": {
    "name": "ipython",
    "version": 3
   },
   "file_extension": ".py",
   "mimetype": "text/x-python",
   "name": "python",
   "nbconvert_exporter": "python",
   "pygments_lexer": "ipython3",
   "version": "3.5.4"
  }
 },
 "nbformat": 4,
 "nbformat_minor": 2
}
